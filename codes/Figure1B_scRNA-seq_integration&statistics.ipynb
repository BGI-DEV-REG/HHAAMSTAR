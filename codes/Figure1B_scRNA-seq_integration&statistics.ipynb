{
 "cells": [
  {
   "cell_type": "code",
   "execution_count": null,
   "id": "62b0b656-8169-4825-9ee6-4ccc18dae2e3",
   "metadata": {
    "tags": []
   },
   "outputs": [],
   "source": [
    "library(Seurat)\n",
    "library(ggplot2)\n",
    "library(dplyr)\n",
    "library(stringr)\n",
    "library(grid)\n",
    "library(tibble)\n",
    "library(stringr)\n",
    "library(parallel)"
   ]
  },
  {
   "cell_type": "code",
   "execution_count": null,
   "id": "e8d6e86e-78fe-4267-bfaf-d9d3eb32e175",
   "metadata": {},
   "outputs": [],
   "source": [
    "source('../data/figure1/code/seurat_helper.r')"
   ]
  },
  {
   "cell_type": "markdown",
   "id": "aabf9202-ef7d-42d7-8f3d-cd7855f61bda",
   "metadata": {},
   "source": [
    "# removing contamination RNAs"
   ]
  },
  {
   "cell_type": "code",
   "execution_count": null,
   "id": "9cd22d08-c6f0-4ab9-93ae-64caf31da9c9",
   "metadata": {},
   "outputs": [],
   "source": [
    "data_path='../data/figure1/raw_data/'\n",
    "output_path='../data/figure1/SoupX/'\n",
    "data_sample = read.csv('../data/figure1/Figure1B_scRNA-raw_data_info.csv',row.names=1)\n",
    "data_names = data_sample$data_names\n",
    "sample_names = data_sample$sample_names\n",
    "\n",
    "# add matrix path\n",
    "matrix_paths <- c()\n",
    "matrix_path1 <- c()\n",
    "matrix_path2 <- c()\n",
    "output_paths <- c()\n",
    "for (i in 1:length(data_names)){\n",
    "    #\n",
    "    matrix_paths=c(matrix_paths, paste0(data_path, data_names[i]))\n",
    "    matrix_path1=c(matrix_path1, paste0(data_path, data_names[i], '/04.Matrix/FilterMatrix/'))\n",
    "    matrix_path2=c(matrix_path2, paste0(data_path, data_names[i], '/02.cDNAAnno/RawMatrix/'))\n",
    "    #\n",
    "    output_paths=c(output_paths, paste0(output_path, data_names[i]))\n",
    "}\n",
    "# output data\n",
    "for (i in 1:length(matrix_paths)){\n",
    "    out <- runSoupX_Droplets(matrix_path=matrix_paths[i])\n",
    "    #if(!dir.exists(output_paths[i])){dir.create(output_paths[i])}\n",
    "    ExportData_10X_format(out,out_dir=output_paths[i], assay='RNA')\n",
    "}"
   ]
  },
  {
   "cell_type": "markdown",
   "id": "38cc7e9b-31ab-49b8-8a33-6140c083ac3c",
   "metadata": {},
   "source": [
    "# QC"
   ]
  },
  {
   "cell_type": "code",
   "execution_count": null,
   "id": "9bdcbfe5-081b-4092-8714-7a3ca7b29f85",
   "metadata": {},
   "outputs": [],
   "source": [
    "## add matrix path\n",
    "matrix_paths <- c()\n",
    "for (i in 1:length(data_names)){\n",
    "    matrix_paths=c(matrix_paths, paste0(data_path, data_names[i]))\n",
    "}\n",
    "\n",
    "## merge samples \n",
    "### create seurat obj\n",
    "seurat.list=c()\n",
    "for (i in 1:length(matrix_paths)){\n",
    "    seurat.obj=Create_scRNA_object(data.dir = matrix_paths[i])\n",
    "    #\n",
    "    seurat.obj$batch=sample_names[i]\n",
    "    seurat.obj$tissue='scalp'\n",
    "    seurat.obj$orig.ident=sample_names[i]\n",
    "    #\n",
    "    seurat.list=c(seurat.list, seurat.obj)\n",
    "}\n",
    "\n",
    "### get overlap genes\n",
    "genes=Overlap_Seurat_Genes(seurat.list)\n",
    "### extract genes of each seurat object\n",
    "seurat.list <- lapply(X = seurat.list, FUN = function(x) {\n",
    "        x <- x[genes, ]\n",
    "})\n",
    "\n",
    "## QC\n",
    "seurat.list <- lapply(X = seurat.list, FUN = function(x) {\n",
    "    x <- QC_RNA(proj = x, genome = \"hg38\")\n",
    "    # These defaults can be run just by providing accepted species name\n",
    "    x <- Add_Mito_Ribo_Seurat(seurat_object = x, species = \"Human\")\n",
    "    # These defaults can be run just by providing accepted species name\n",
    "})\n",
    "\n",
    "## outliers and doublets\n",
    "for (i in 1:length(sample_names)){\n",
    "    # outliers\n",
    "    seurat.list[[i]] <- subset(seurat.list[[i]], subset = nCount_RNA > 100)\n",
    "    outlier <- is_outlier(seurat.list[[i]], \"nCount_RNA\", 4) | \n",
    "                is_outlier(seurat.list[[i]], \"nFeature_RNA\", 4) | \n",
    "                is_outlier(seurat.list[[i]], \"percent.mt\", 4) |\n",
    "                is_outlier(seurat.list[[i]], \"percent.ribo\", 4)\n",
    "    seurat.list[[i]]$outlier <- outlier\n",
    "    # doublets\n",
    "    seurat.list[[i]] <- runscDblFinder(seurat.list[[i]], assay='RNA')\n",
    "    # save result\n",
    "    saveRDS(seurat.list[[i]], paste0('../data/figure1/QC/',sample_names[i],'.rds'))\n",
    "}"
   ]
  },
  {
   "cell_type": "markdown",
   "id": "659b6155-716b-41ff-b2cf-846311b1b51b",
   "metadata": {},
   "source": [
    "# remove outliers and doublets"
   ]
  },
  {
   "cell_type": "code",
   "execution_count": null,
   "id": "cbb38410-ea5a-4e34-84fd-607a1c0196f7",
   "metadata": {},
   "outputs": [],
   "source": [
    "dir='../data/figure1/QC/'\n",
    "\n",
    "skin=loadRDSData(dir, sample_names, merge=TRUE)\n",
    "saveRDS(skin, '../data/figure1/HF_RNA_HF_RNA_raw.rds')\n",
    "\n",
    "\n",
    "skin = subset(x = skin, subset = nCount_RNA > 0)\n",
    "outlier <- is_outlier(skin, \"nCount_RNA\", 4) | \n",
    "           is_outlier(skin, \"nFeature_RNA\", 4) | \n",
    "           is_outlier(skin, \"percent.mt\", 4) |\n",
    "           is_outlier(skin, \"percent.ribo\", 4)\n",
    "skin$outlier <- outlier\n",
    "\n",
    "skin <- subset(skin, outlier==FALSE)\n",
    "skin <- subset(skin, scDblFinder.class=='singlet')\n",
    "\n",
    "# get blacklist genes\n",
    "blacklist.genes=GetBlackListGenes(skin, MT=TRUE, Ribo=TRUE, Cellcycle=FALSE, Sex=FALSE)\n",
    "\n",
    "saveRDS(skin,'../data/figure1/HF_RNA_postQC_merge.rds')"
   ]
  },
  {
   "cell_type": "code",
   "execution_count": null,
   "id": "cf2fc8b7-e104-4e56-8cf5-6c0aa1bc1d5a",
   "metadata": {
    "tags": []
   },
   "outputs": [],
   "source": [
    "# load merge object post quality control\n",
    "obj = readRDS('../data/figure1/HF_RNA_postQC_merge.rds')"
   ]
  },
  {
   "cell_type": "markdown",
   "id": "2dc1ecaa-1aff-4828-9a1f-05b2d33ce150",
   "metadata": {},
   "source": [
    "# Integration"
   ]
  },
  {
   "cell_type": "code",
   "execution_count": null,
   "id": "ce02bd8a-eab2-4d02-9260-dc95d53867e5",
   "metadata": {
    "tags": []
   },
   "outputs": [],
   "source": [
    "batch = unique(obj$batch)\n",
    "batch1 = lapply(batch, function(x){\n",
    "    x = str_split(x, pattern = '-') %>% unlist()\n",
    "    x = x[1:3]\n",
    "    x = paste0(x, collapse = '-')\n",
    "    return(x)\n",
    "}) %>% unlist()\n",
    "\n",
    "meta = data.frame(row.names = batch, batch1 = batch1)\n",
    "obj$batch1 = meta[obj$batch, 'batch1']"
   ]
  },
  {
   "cell_type": "code",
   "execution_count": null,
   "id": "46ff799c-187c-4d63-b5e4-78c5fb89d0e4",
   "metadata": {
    "tags": []
   },
   "outputs": [],
   "source": [
    "Idents(obj) = obj$seurat_clusters\n",
    "\n",
    "HF.list = SplitObject(obj, split.by = 'batch1')\n",
    "HF.list = lapply(HF.list, function(x){\n",
    "  DefaultAssay(x) = 'RNA'\n",
    "  x = x %>% NormalizeData(., verbose = F) %>% FindVariableFeatures(., verbose = F) %>% ScaleData(., verbose = F) %>% RunPCA(., npcs = 50, verbose = F)\n",
    "})\n",
    "\n",
    "features <- SelectIntegrationFeatures(object.list = HF.list)\n",
    "anchors <- FindIntegrationAnchors(object.list = HF.list, anchor.features = features, reduction = \"rpca\")\n",
    "HF.combined <- IntegrateData(anchorset = anchors)"
   ]
  },
  {
   "cell_type": "code",
   "execution_count": null,
   "id": "c54f7987-c947-4343-ba32-782f7ba98569",
   "metadata": {
    "tags": []
   },
   "outputs": [],
   "source": [
    "DefaultAssay(HF.combined) <- \"integrated\"\n",
    "\n",
    "HF.combined <- ScaleData(HF.combined, verbose = FALSE)\n",
    "HF.combined <- RunPCA(HF.combined, npcs = 30, verbose = FALSE, reduction.name = 'inter_pca')\n",
    "HF.combined <- RunUMAP(HF.combined, reduction = \"inter_pca\", dims = 1:30)\n",
    "HF.combined <- FindNeighbors(HF.combined, reduction = \"inter_pca\", dims = 1:30)\n",
    "HF.combined <- FindClusters(HF.combined)\n",
    "saveRDS(HF.combined, file = '../data/figure1/HF_RNA_postQC_rpca.rds')"
   ]
  },
  {
   "cell_type": "markdown",
   "id": "d38b8c7f-6e12-4db6-87a3-79bb598991e3",
   "metadata": {},
   "source": [
    "# Plot"
   ]
  },
  {
   "cell_type": "code",
   "execution_count": null,
   "id": "e7844b9f-e221-4d9c-a0dc-8957f3865668",
   "metadata": {},
   "outputs": [],
   "source": [
    "colorlist = read.delim('../data/RCTD.color_LastlEdition240612.txt')\n",
    "colors = colorlist$Color\n",
    "names(colors) = colorlist$order\n",
    "\n",
    "age.color = c('#3c1686', '#7696ca', '#99c9ec', '#5ea999', '#2e7737')\n",
    "\n",
    "sample.color = c('#99CCFF', '#846DB1', '#F3DCBB')\n",
    "names(sample.color) = c('HB', 'AB', 'AF')"
   ]
  },
  {
   "cell_type": "code",
   "execution_count": null,
   "id": "8ea14114-59c1-4b20-ab18-7e7f9a9aa590",
   "metadata": {},
   "outputs": [],
   "source": [
    "anno = read.csv('../data/figure1/annotation.csv')\n",
    "HF.combined$celltype_1 = anno[match(HF.combined$seurat_clusters, anno$seurat_clusters),]$celltype\n",
    "p1 = DimPlot(HF.combined, group.by = 'celltype_1', pt.size=0.01, raster = F, cols = colors, shuffle = T)+NoLegend()+\n",
    "    theme_void() + \n",
    "    theme(panel.background = element_rect(fill = \"black\"),\n",
    "          plot.background = element_rect(fill = \"black\"),\n",
    "          plot.title = element_blank(),\n",
    "          legend.background = element_rect(fill = \"black\"),\n",
    "          legend.title = element_text(color = \"white\"),\n",
    "          legend.text = element_text(color = \"white\"))"
   ]
  },
  {
   "cell_type": "code",
   "execution_count": null,
   "id": "c538ff54-69f4-4c62-b6fd-23f0f9e3924b",
   "metadata": {
    "tags": []
   },
   "outputs": [],
   "source": [
    "unique(HF.combined$batch1)\n",
    "age = HF.combined$batch1 %>% str_split(., pattern = '-')# %>% unlist()\n",
    "age = lapply(age, function(age){\n",
    "    age = age[3]\n",
    "    age = gsub('y', '', age) %>% as.numeric()\n",
    "    return(age)\n",
    "}) %>% unlist()"
   ]
  },
  {
   "cell_type": "code",
   "execution_count": null,
   "id": "6fb583a8-14ae-4482-8df2-e4caaba8c7c7",
   "metadata": {
    "tags": []
   },
   "outputs": [],
   "source": [
    "HF.combined$age_group = case_when(HF.combined$age >=3 & HF.combined$age <13 ~ \"Child\",\n",
    "                                  HF.combined$age >=13 & HF.combined$age <18 ~ \"Teenager\",\n",
    "                                  HF.combined$age >=18 & HF.combined$age <40 ~ \"Young\",\n",
    "                                  HF.combined$age >=40 & HF.combined$age <60 ~ \"Mid-age\",\n",
    "                                  HF.combined$age >=60 ~ \"Old\")\n",
    "HF.combined$age_group = factor(HF.combined$age_group, ordered = T, levels = c('Child', 'Teenager', 'Young', 'Mid-age', 'Old'))"
   ]
  },
  {
   "cell_type": "code",
   "execution_count": null,
   "id": "a8de0386-9da6-42d3-b98d-fade23ca8813",
   "metadata": {
    "tags": []
   },
   "outputs": [],
   "source": [
    "# sample_type\n",
    "HF.combined$sample_type = \"\"\n",
    "HF.combined@meta.data[grep('AF', HF.combined$batch), ]$sample_type = 'AF'\n",
    "HF.combined@meta.data[grep('AB', HF.combined$batch), ]$sample_type = 'AO'\n",
    "HF.combined@meta.data[grep('HB', HF.combined$batch), ]$sample_type = 'HO'\n",
    "HF.combined$sample_type = factor(HF.combined$sample_type, ordered = T, levels = c('HO','AO','AF'))"
   ]
  },
  {
   "cell_type": "code",
   "execution_count": null,
   "id": "297643d8-88e4-4377-893d-16358d45e59e",
   "metadata": {
    "tags": []
   },
   "outputs": [],
   "source": [
    "# age_group\n",
    "Idents(HF.combined) = 'sample_type'\n",
    "HO = subset(HF.combined, idents = 'HO')\n",
    "p2 = DimPlot(HO, group.by = 'age_group', pt.size=0.01, raster = F, cols = age.color, shuffle = T)+NoLegend()+\n",
    "    theme_void() + \n",
    "    theme(panel.background = element_rect(fill = \"black\"),\n",
    "          plot.background = element_rect(fill = \"black\"),\n",
    "          plot.title = element_blank(),\n",
    "          legend.background = element_rect(fill = \"black\"),\n",
    "          legend.title = element_text(color = \"white\"),\n",
    "          legend.text = element_text(color = \"white\"))"
   ]
  },
  {
   "cell_type": "code",
   "execution_count": null,
   "id": "4262f3e4-3e5d-49bc-bb32-fcc844d22869",
   "metadata": {
    "tags": []
   },
   "outputs": [],
   "source": [
    "# sample_type\n",
    "Idents(HF.combined) = 'sample_type'\n",
    "AGA = subset(HF.combined, idents = c('AF','AO'))\n",
    "p3 = DimPlot(AGA, group.by = 'sample_type', pt.size=0.01, raster = F, cols = sample.color, shuffle = T)+NoLegend()+\n",
    "    theme_void() + \n",
    "    theme(panel.background = element_rect(fill = \"black\"),\n",
    "          plot.background = element_rect(fill = \"black\"),\n",
    "          plot.title = element_blank(),\n",
    "          legend.background = element_rect(fill = \"black\"),\n",
    "          legend.title = element_text(color = \"white\"),\n",
    "          legend.text = element_text(color = \"white\"))"
   ]
  },
  {
   "cell_type": "code",
   "execution_count": null,
   "id": "ebdb43d5-5e64-4806-badd-4632a981906f",
   "metadata": {},
   "outputs": [],
   "source": [
    "sampleid = read.csv('../data/scRNA_Spatial_sample_NewName.csv',row.names=1)"
   ]
  },
  {
   "cell_type": "code",
   "execution_count": null,
   "id": "7e86d5c5-8743-4827-97aa-4f3eb746785e",
   "metadata": {},
   "outputs": [],
   "source": [
    "HF.combined$batch2 = sampleid[match(HF.combined$batch, sampleid$scRNA),]$scRNA_new"
   ]
  },
  {
   "cell_type": "code",
   "execution_count": null,
   "id": "1ddceaf7-d8c9-4a4d-a6a2-d2ffdc6005bc",
   "metadata": {},
   "outputs": [],
   "source": [
    "Cellnum <- table(HF.combined$batch2)\n",
    "Cellnum <- as.data.frame(Cellnum)\n",
    "\n",
    "colnames(Cellnum) <- c(\"sample\",\"Freq\")\n",
    "Cellnum$sample_type <- gsub(\"\\\\d+\", \"\", sapply(strsplit(as.character(Cellnum$sample), \"\\\\.\"), \"[[\", 1)) %>% factor(., levels = c('HO','AO','AF'))\n",
    "Cellnum$age <- gsub(\"y\", \"\", sapply(strsplit(as.character(Cellnum$sample), \"\\\\.\"), \"[[\", 2)) %>% as.numeric\n",
    "\n",
    "Cellnum <- Cellnum %>% arrange(sample_type, age)\n",
    "\n",
    "p4 <- ggplot(Cellnum, aes(x = sample, y = Freq, group = sample_type, fill = sample_type)) +\n",
    "      geom_bar(stat = \"identity\") +\n",
    "      coord_flip() +\n",
    "      scale_fill_manual(values = sample.color) +\n",
    "      theme(axis.title = element_blank(),\n",
    "        axis.text.x = element_text(size = 12, color = \"white\"), \n",
    "        axis.text.y = element_text(size = 12, color = \"white\"), \n",
    "        axis.line = element_blank(),\n",
    "        axis.ticks.x = element_line(color = \"white\", size = 0.5),\n",
    "        axis.ticks.y = element_blank(),\n",
    "        panel.background = element_rect(fill = \"black\"),\n",
    "        panel.grid.major = element_blank(),\n",
    "        panel.grid.minor = element_blank(),\n",
    "        plot.background = element_rect(fill = \"black\", color = NA),\n",
    "        legend.background = element_rect(fill = \"black\"),\n",
    "        legend.text = element_text(color = \"white\",size = 12))"
   ]
  },
  {
   "cell_type": "code",
   "execution_count": null,
   "id": "223a8954-f648-42dd-a1ba-3bd2cdeb7c96",
   "metadata": {},
   "outputs": [],
   "source": [
    "saveRDS(HF.combined, file = '../data/figure1/HF_RNA_postQC_rpca.rds')"
   ]
  }
 ],
 "metadata": {
  "kernelspec": {
   "display_name": "R",
   "language": "R",
   "name": "ir"
  },
  "language_info": {
   "codemirror_mode": "r",
   "file_extension": ".r",
   "mimetype": "text/x-r-source",
   "name": "R",
   "pygments_lexer": "r",
   "version": "4.2.2"
  },
  "toc-autonumbering": true
 },
 "nbformat": 4,
 "nbformat_minor": 5
}
